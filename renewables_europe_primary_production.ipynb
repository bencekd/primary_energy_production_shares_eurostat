{
 "cells": [
  {
   "cell_type": "code",
   "execution_count": 1,
   "metadata": {},
   "outputs": [
    {
     "data": {
      "text/html": [
       "<script>requirejs.config({paths: { 'plotly': ['https://cdn.plot.ly/plotly-latest.min']},});if(!window.Plotly) {{require(['plotly'],function(plotly) {window.Plotly=plotly;});}}</script>"
      ],
      "text/vnd.plotly.v1+html": [
       "<script>requirejs.config({paths: { 'plotly': ['https://cdn.plot.ly/plotly-latest.min']},});if(!window.Plotly) {{require(['plotly'],function(plotly) {window.Plotly=plotly;});}}</script>"
      ]
     },
     "metadata": {},
     "output_type": "display_data"
    }
   ],
   "source": [
    "import pandas as pd\n",
    "import jsonstat as jstat\n",
    "from dfply import *\n",
    "from plotly.offline import download_plotlyjs, init_notebook_mode, plot, iplot\n",
    "import plotly.graph_objs as go\n",
    "init_notebook_mode(connected=True)\n",
    "\n",
    "base_url = 'http://ec.europa.eu/eurostat/wdds/rest/data/v2.1/json/en/'\n",
    "base_url_1 = 'nrg_109a?precision=1&sinceTimePeriod=2000&unit=KTOE&indic_en=B_100100&'"
   ]
  },
  {
   "cell_type": "code",
   "execution_count": 45,
   "metadata": {},
   "outputs": [],
   "source": [
    "# agg_lvls = [\n",
    "#     ['0000'],\n",
    "# #     ['2000','3000','4000','5100','5200','5500','6000','7200'],\n",
    "# #     ['2100','2200','2410','3100','3200','4000','5100','5200','5510','5520','5530','5535','5540','5550','6000','7200']\n",
    "# ]\n",
    "\n",
    "## 0000 should be equal to all the others"
   ]
  },
  {
   "cell_type": "code",
   "execution_count": 2,
   "metadata": {},
   "outputs": [],
   "source": [
    "# specify country, time here\n",
    "country = 'HU'\n",
    "year = '2016'"
   ]
  },
  {
   "cell_type": "code",
   "execution_count": 3,
   "metadata": {},
   "outputs": [
    {
     "data": {
      "text/plain": [
       "'http://ec.europa.eu/eurostat/wdds/rest/data/v2.1/json/en/nrg_109a?precision=1&sinceTimePeriod=2000&unit=KTOE&indic_en=B_100100&geo=HU'"
      ]
     },
     "execution_count": 3,
     "metadata": {},
     "output_type": "execute_result"
    }
   ],
   "source": [
    "geos = [country]\n",
    "url = \"\".join(list(map(lambda t: \"geo={}&\".format(t), geos)))[:-1]\n",
    "\n",
    "# url2 = \"\".join(list(map(lambda t: \"product={}&\".format(t), agg_lvls[1])))[:-1]\n",
    "\n",
    "\n",
    "full_url = base_url + base_url_1 + url\n",
    "full_url"
   ]
  },
  {
   "cell_type": "code",
   "execution_count": 4,
   "metadata": {},
   "outputs": [
    {
     "ename": "KeyError",
     "evalue": "'177'",
     "output_type": "error",
     "traceback": [
      "\u001b[1;31m---------------------------------------------------------------------------\u001b[0m",
      "\u001b[1;31mKeyError\u001b[0m                                  Traceback (most recent call last)",
      "\u001b[1;32m<ipython-input-4-c4bb6227dafd>\u001b[0m in \u001b[0;36m<module>\u001b[1;34m\u001b[0m\n\u001b[0;32m      1\u001b[0m \u001b[0mdata\u001b[0m \u001b[1;33m=\u001b[0m \u001b[0mjstat\u001b[0m\u001b[1;33m.\u001b[0m\u001b[0mfrom_url\u001b[0m\u001b[1;33m(\u001b[0m\u001b[0mfull_url\u001b[0m\u001b[1;33m)\u001b[0m\u001b[1;33m\u001b[0m\u001b[0m\n\u001b[1;32m----> 2\u001b[1;33m \u001b[0mdata_df\u001b[0m \u001b[1;33m=\u001b[0m \u001b[0mdata\u001b[0m\u001b[1;33m.\u001b[0m\u001b[0mto_data_frame\u001b[0m\u001b[1;33m(\u001b[0m\u001b[1;34m'time'\u001b[0m\u001b[1;33m,\u001b[0m \u001b[0mcontent\u001b[0m\u001b[1;33m=\u001b[0m\u001b[1;34m'id'\u001b[0m\u001b[1;33m)\u001b[0m\u001b[1;33m\u001b[0m\u001b[0m\n\u001b[0m\u001b[0;32m      3\u001b[0m \u001b[0mdata_df\u001b[0m\u001b[1;33m.\u001b[0m\u001b[0mhead\u001b[0m\u001b[1;33m(\u001b[0m\u001b[1;33m)\u001b[0m\u001b[1;33m\u001b[0m\u001b[0m\n",
      "\u001b[1;32mc:\\users\\bence\\appdata\\local\\programs\\python\\python37\\lib\\site-packages\\jsonstat\\dataset.py\u001b[0m in \u001b[0;36mto_data_frame\u001b[1;34m(self, index, content, order, blocked_dims, value_column)\u001b[0m\n\u001b[0;32m    605\u001b[0m                            \u001b[0mrtype\u001b[0m\u001b[1;33m=\u001b[0m\u001b[0mpd\u001b[0m\u001b[1;33m.\u001b[0m\u001b[0mDataFrame\u001b[0m\u001b[1;33m,\u001b[0m\u001b[1;33m\u001b[0m\u001b[0m\n\u001b[0;32m    606\u001b[0m                            \u001b[0mblocked_dims\u001b[0m\u001b[1;33m=\u001b[0m\u001b[0mblocked_dims\u001b[0m\u001b[1;33m,\u001b[0m\u001b[1;33m\u001b[0m\u001b[0m\n\u001b[1;32m--> 607\u001b[1;33m                            value_column=value_column)\n\u001b[0m\u001b[0;32m    608\u001b[0m         \u001b[1;31m# TODO: avoid creating a new dataframe (?)\u001b[0m\u001b[1;33m\u001b[0m\u001b[1;33m\u001b[0m\u001b[0m\n\u001b[0;32m    609\u001b[0m         \u001b[1;31m# df.index = df[index]\u001b[0m\u001b[1;33m\u001b[0m\u001b[1;33m\u001b[0m\u001b[0m\n",
      "\u001b[1;32mc:\\users\\bence\\appdata\\local\\programs\\python\\python37\\lib\\site-packages\\jsonstat\\dataset.py\u001b[0m in \u001b[0;36mto_table\u001b[1;34m(self, content, order, rtype, blocked_dims, value_column, without_one_dimensions)\u001b[0m\n\u001b[0;32m    560\u001b[0m         \u001b[0mtable\u001b[0m\u001b[1;33m.\u001b[0m\u001b[0mappend\u001b[0m\u001b[1;33m(\u001b[0m\u001b[0mheader\u001b[0m\u001b[1;33m)\u001b[0m\u001b[1;33m\u001b[0m\u001b[0m\n\u001b[0;32m    561\u001b[0m         \u001b[1;32mfor\u001b[0m \u001b[0mapos\u001b[0m \u001b[1;32min\u001b[0m \u001b[0mself\u001b[0m\u001b[1;33m.\u001b[0m\u001b[0mall_pos\u001b[0m\u001b[1;33m(\u001b[0m\u001b[0morder\u001b[0m\u001b[1;33m=\u001b[0m\u001b[0morder\u001b[0m\u001b[1;33m,\u001b[0m \u001b[0mblocked_dims\u001b[0m\u001b[1;33m=\u001b[0m\u001b[0mblocked_dims\u001b[0m\u001b[1;33m)\u001b[0m\u001b[1;33m:\u001b[0m\u001b[1;33m\u001b[0m\u001b[0m\n\u001b[1;32m--> 562\u001b[1;33m             \u001b[0mvalue\u001b[0m \u001b[1;33m=\u001b[0m \u001b[0mself\u001b[0m\u001b[1;33m.\u001b[0m\u001b[0m__value_from_vec_pos\u001b[0m\u001b[1;33m(\u001b[0m\u001b[0mapos\u001b[0m\u001b[1;33m)\u001b[0m\u001b[1;33m\u001b[0m\u001b[0m\n\u001b[0m\u001b[0;32m    563\u001b[0m             \u001b[1;32mif\u001b[0m \u001b[0mcontent\u001b[0m \u001b[1;33m==\u001b[0m \u001b[1;34m\"label\"\u001b[0m\u001b[1;33m:\u001b[0m\u001b[1;33m\u001b[0m\u001b[0m\n\u001b[0;32m    564\u001b[0m                 row = self._lint_to_llbl(\n",
      "\u001b[1;32mc:\\users\\bence\\appdata\\local\\programs\\python\\python37\\lib\\site-packages\\jsonstat\\dataset.py\u001b[0m in \u001b[0;36m__value_from_vec_pos\u001b[1;34m(self, lst)\u001b[0m\n\u001b[0;32m    306\u001b[0m         \u001b[1;33m:\u001b[0m\u001b[0mreturns\u001b[0m\u001b[1;33m:\u001b[0m \u001b[0mvalue\u001b[0m \u001b[0mat\u001b[0m \u001b[0mdimension\u001b[0m \u001b[1;33m[\u001b[0m\u001b[1;36m0\u001b[0m\u001b[1;33m,\u001b[0m\u001b[1;36m3\u001b[0m\u001b[1;33m,\u001b[0m\u001b[1;36m4\u001b[0m\u001b[1;33m]\u001b[0m\u001b[1;33m\u001b[0m\u001b[0m\n\u001b[0;32m    307\u001b[0m         \"\"\"\n\u001b[1;32m--> 308\u001b[1;33m         \u001b[1;32mreturn\u001b[0m \u001b[0mself\u001b[0m\u001b[1;33m.\u001b[0m\u001b[0m__value\u001b[0m\u001b[1;33m[\u001b[0m\u001b[0mstr\u001b[0m\u001b[1;33m(\u001b[0m\u001b[0mself\u001b[0m\u001b[1;33m.\u001b[0m\u001b[0mlint_as_idx\u001b[0m\u001b[1;33m(\u001b[0m\u001b[0mlst\u001b[0m\u001b[1;33m)\u001b[0m\u001b[1;33m)\u001b[0m\u001b[1;33m]\u001b[0m\u001b[1;33m\u001b[0m\u001b[0m\n\u001b[0m\u001b[0;32m    309\u001b[0m \u001b[1;33m\u001b[0m\u001b[0m\n\u001b[0;32m    310\u001b[0m     \u001b[1;31m#\u001b[0m\u001b[1;33m\u001b[0m\u001b[1;33m\u001b[0m\u001b[0m\n",
      "\u001b[1;31mKeyError\u001b[0m: '177'"
     ]
    }
   ],
   "source": [
    "data = jstat.from_url(full_url)\n",
    "data_df = data.to_data_frame('time', content='id')\n",
    "data_df.head()"
   ]
  },
  {
   "cell_type": "code",
   "execution_count": 49,
   "metadata": {},
   "outputs": [],
   "source": [
    "data_df.reset_index(level=0,inplace=True)"
   ]
  },
  {
   "cell_type": "code",
   "execution_count": 50,
   "metadata": {},
   "outputs": [
    {
     "data": {
      "text/plain": [
       "array(['0000', '2115', '2116', '2117', '2118', '2210', '2310', '2410',\n",
       "       '3105', '3106', '3192', '3193', '4100', '5100', '5510', '5520',\n",
       "       '5532', '5534', '5535', '5541', '55411', '55412', '55413', '55414',\n",
       "       '55415', '55416', '5542', '55421', '55422', '55423', '55425',\n",
       "       '55431', '55432', '5546', '5547', '5548', '5549', '5550', '7100'],\n",
       "      dtype=object)"
      ]
     },
     "execution_count": 50,
     "metadata": {},
     "output_type": "execute_result"
    }
   ],
   "source": [
    "data_df['product'].unique()"
   ]
  },
  {
   "cell_type": "code",
   "execution_count": 51,
   "metadata": {
    "scrolled": true
   },
   "outputs": [],
   "source": [
    "data_df = data_df[data_df['product'].str.len() <= 4]"
   ]
  },
  {
   "cell_type": "code",
   "execution_count": 52,
   "metadata": {},
   "outputs": [
    {
     "data": {
      "text/html": [
       "<div>\n",
       "<style scoped>\n",
       "    .dataframe tbody tr th:only-of-type {\n",
       "        vertical-align: middle;\n",
       "    }\n",
       "\n",
       "    .dataframe tbody tr th {\n",
       "        vertical-align: top;\n",
       "    }\n",
       "\n",
       "    .dataframe thead th {\n",
       "        text-align: right;\n",
       "    }\n",
       "</style>\n",
       "<table border=\"1\" class=\"dataframe\">\n",
       "  <thead>\n",
       "    <tr style=\"text-align: right;\">\n",
       "      <th></th>\n",
       "      <th>time</th>\n",
       "      <th>unit</th>\n",
       "      <th>product</th>\n",
       "      <th>indic_en</th>\n",
       "      <th>geo</th>\n",
       "      <th>Value</th>\n",
       "      <th>lv3</th>\n",
       "      <th>lv2</th>\n",
       "    </tr>\n",
       "  </thead>\n",
       "  <tbody>\n",
       "    <tr>\n",
       "      <th>0</th>\n",
       "      <td>2000</td>\n",
       "      <td>KTOE</td>\n",
       "      <td>0000</td>\n",
       "      <td>B_100100</td>\n",
       "      <td>HU</td>\n",
       "      <td>11598.3</td>\n",
       "      <td>000</td>\n",
       "      <td>00</td>\n",
       "    </tr>\n",
       "    <tr>\n",
       "      <th>1</th>\n",
       "      <td>2001</td>\n",
       "      <td>KTOE</td>\n",
       "      <td>0000</td>\n",
       "      <td>B_100100</td>\n",
       "      <td>HU</td>\n",
       "      <td>11276.7</td>\n",
       "      <td>000</td>\n",
       "      <td>00</td>\n",
       "    </tr>\n",
       "    <tr>\n",
       "      <th>2</th>\n",
       "      <td>2002</td>\n",
       "      <td>KTOE</td>\n",
       "      <td>0000</td>\n",
       "      <td>B_100100</td>\n",
       "      <td>HU</td>\n",
       "      <td>11171.6</td>\n",
       "      <td>000</td>\n",
       "      <td>00</td>\n",
       "    </tr>\n",
       "    <tr>\n",
       "      <th>3</th>\n",
       "      <td>2003</td>\n",
       "      <td>KTOE</td>\n",
       "      <td>0000</td>\n",
       "      <td>B_100100</td>\n",
       "      <td>HU</td>\n",
       "      <td>10413.1</td>\n",
       "      <td>000</td>\n",
       "      <td>00</td>\n",
       "    </tr>\n",
       "    <tr>\n",
       "      <th>4</th>\n",
       "      <td>2004</td>\n",
       "      <td>KTOE</td>\n",
       "      <td>0000</td>\n",
       "      <td>B_100100</td>\n",
       "      <td>HU</td>\n",
       "      <td>10190.3</td>\n",
       "      <td>000</td>\n",
       "      <td>00</td>\n",
       "    </tr>\n",
       "  </tbody>\n",
       "</table>\n",
       "</div>"
      ],
      "text/plain": [
       "   time  unit product  indic_en geo    Value  lv3 lv2\n",
       "0  2000  KTOE    0000  B_100100  HU  11598.3  000  00\n",
       "1  2001  KTOE    0000  B_100100  HU  11276.7  000  00\n",
       "2  2002  KTOE    0000  B_100100  HU  11171.6  000  00\n",
       "3  2003  KTOE    0000  B_100100  HU  10413.1  000  00\n",
       "4  2004  KTOE    0000  B_100100  HU  10190.3  000  00"
      ]
     },
     "execution_count": 52,
     "metadata": {},
     "output_type": "execute_result"
    }
   ],
   "source": [
    "data_df['lv3'] = data_df['product'].str[:3]\n",
    "data_df['lv2'] = data_df['product'].str[:2]\n",
    "data_df.head()"
   ]
  },
  {
   "cell_type": "code",
   "execution_count": 53,
   "metadata": {},
   "outputs": [
    {
     "data": {
      "text/html": [
       "<div>\n",
       "<style scoped>\n",
       "    .dataframe tbody tr th:only-of-type {\n",
       "        vertical-align: middle;\n",
       "    }\n",
       "\n",
       "    .dataframe tbody tr th {\n",
       "        vertical-align: top;\n",
       "    }\n",
       "\n",
       "    .dataframe thead th {\n",
       "        text-align: right;\n",
       "    }\n",
       "</style>\n",
       "<table border=\"1\" class=\"dataframe\">\n",
       "  <thead>\n",
       "    <tr style=\"text-align: right;\">\n",
       "      <th></th>\n",
       "      <th>time</th>\n",
       "      <th>unit</th>\n",
       "      <th>product</th>\n",
       "      <th>indic_en</th>\n",
       "      <th>geo</th>\n",
       "      <th>Value</th>\n",
       "      <th>lv3</th>\n",
       "      <th>lv2</th>\n",
       "      <th>category</th>\n",
       "    </tr>\n",
       "  </thead>\n",
       "  <tbody>\n",
       "    <tr>\n",
       "      <th>0</th>\n",
       "      <td>2000</td>\n",
       "      <td>KTOE</td>\n",
       "      <td>0000</td>\n",
       "      <td>B_100100</td>\n",
       "      <td>HU</td>\n",
       "      <td>11598.3</td>\n",
       "      <td>000</td>\n",
       "      <td>00</td>\n",
       "      <td>00</td>\n",
       "    </tr>\n",
       "    <tr>\n",
       "      <th>1</th>\n",
       "      <td>2001</td>\n",
       "      <td>KTOE</td>\n",
       "      <td>0000</td>\n",
       "      <td>B_100100</td>\n",
       "      <td>HU</td>\n",
       "      <td>11276.7</td>\n",
       "      <td>000</td>\n",
       "      <td>00</td>\n",
       "      <td>00</td>\n",
       "    </tr>\n",
       "    <tr>\n",
       "      <th>2</th>\n",
       "      <td>2002</td>\n",
       "      <td>KTOE</td>\n",
       "      <td>0000</td>\n",
       "      <td>B_100100</td>\n",
       "      <td>HU</td>\n",
       "      <td>11171.6</td>\n",
       "      <td>000</td>\n",
       "      <td>00</td>\n",
       "      <td>00</td>\n",
       "    </tr>\n",
       "    <tr>\n",
       "      <th>3</th>\n",
       "      <td>2003</td>\n",
       "      <td>KTOE</td>\n",
       "      <td>0000</td>\n",
       "      <td>B_100100</td>\n",
       "      <td>HU</td>\n",
       "      <td>10413.1</td>\n",
       "      <td>000</td>\n",
       "      <td>00</td>\n",
       "      <td>00</td>\n",
       "    </tr>\n",
       "    <tr>\n",
       "      <th>4</th>\n",
       "      <td>2004</td>\n",
       "      <td>KTOE</td>\n",
       "      <td>0000</td>\n",
       "      <td>B_100100</td>\n",
       "      <td>HU</td>\n",
       "      <td>10190.3</td>\n",
       "      <td>000</td>\n",
       "      <td>00</td>\n",
       "      <td>00</td>\n",
       "    </tr>\n",
       "  </tbody>\n",
       "</table>\n",
       "</div>"
      ],
      "text/plain": [
       "   time  unit product  indic_en geo    Value  lv3 lv2 category\n",
       "0  2000  KTOE    0000  B_100100  HU  11598.3  000  00       00\n",
       "1  2001  KTOE    0000  B_100100  HU  11276.7  000  00       00\n",
       "2  2002  KTOE    0000  B_100100  HU  11171.6  000  00       00\n",
       "3  2003  KTOE    0000  B_100100  HU  10413.1  000  00       00\n",
       "4  2004  KTOE    0000  B_100100  HU  10190.3  000  00       00"
      ]
     },
     "execution_count": 53,
     "metadata": {},
     "output_type": "execute_result"
    }
   ],
   "source": [
    "data_df['category'] = data_df['lv2']\n",
    "data_df.loc[data_df['lv2'] == '55','category'] = data_df['lv3']\n",
    "data_df.head()"
   ]
  },
  {
   "cell_type": "code",
   "execution_count": 54,
   "metadata": {},
   "outputs": [
    {
     "data": {
      "text/html": [
       "<div>\n",
       "<style scoped>\n",
       "    .dataframe tbody tr th:only-of-type {\n",
       "        vertical-align: middle;\n",
       "    }\n",
       "\n",
       "    .dataframe tbody tr th {\n",
       "        vertical-align: top;\n",
       "    }\n",
       "\n",
       "    .dataframe thead th {\n",
       "        text-align: right;\n",
       "    }\n",
       "</style>\n",
       "<table border=\"1\" class=\"dataframe\">\n",
       "  <thead>\n",
       "    <tr style=\"text-align: right;\">\n",
       "      <th></th>\n",
       "      <th>category</th>\n",
       "      <th>total</th>\n",
       "    </tr>\n",
       "  </thead>\n",
       "  <tbody>\n",
       "    <tr>\n",
       "      <th>6</th>\n",
       "      <td>51</td>\n",
       "      <td>4161.4</td>\n",
       "    </tr>\n",
       "    <tr>\n",
       "      <th>10</th>\n",
       "      <td>554</td>\n",
       "      <td>2898.6</td>\n",
       "    </tr>\n",
       "    <tr>\n",
       "      <th>1</th>\n",
       "      <td>22</td>\n",
       "      <td>1462.5</td>\n",
       "    </tr>\n",
       "    <tr>\n",
       "      <th>5</th>\n",
       "      <td>41</td>\n",
       "      <td>1428.8</td>\n",
       "    </tr>\n",
       "    <tr>\n",
       "      <th>4</th>\n",
       "      <td>31</td>\n",
       "      <td>984.7</td>\n",
       "    </tr>\n",
       "  </tbody>\n",
       "</table>\n",
       "</div>"
      ],
      "text/plain": [
       "   category   total\n",
       "6        51  4161.4\n",
       "10      554  2898.6\n",
       "1        22  1462.5\n",
       "5        41  1428.8\n",
       "4        31   984.7"
      ]
     },
     "execution_count": 54,
     "metadata": {},
     "output_type": "execute_result"
    }
   ],
   "source": [
    "pie_data = (data_df >> mask(X.geo == country, X.time == year, X.category != '00'))\n",
    "pie_data = (pie_data >> group_by('category') >> summarize(total = X.Value.sum()))\n",
    "# total_sum = sum(albania['Value'])\n",
    "\n",
    "# lv2['category'] = lv2['product']\n",
    "# lv2.loc[(lv2['Value'] / total_sum) < 0.05,'category'] = 'Other'\n",
    "\n",
    "\n",
    "pie_data.sort_values(by=['total'],ascending=False).head()"
   ]
  },
  {
   "cell_type": "code",
   "execution_count": 55,
   "metadata": {},
   "outputs": [],
   "source": [
    "# translation\n",
    "trans = {\n",
    "    \"41\": \"Natural gas\",\n",
    "    \"554\": \"Biomass\",\n",
    "    \"31\": \"Crude oil\",\n",
    "    \"51\": \"Nuclear\",\n",
    "    \"552\": \"Wind\",\n",
    "    \"553\": \"Solar\",\n",
    "    \"551\": \"Hydro\",\n",
    "    \"22\": \"Lignite and Derivatives\"\n",
    "}\n",
    "trans['41']\n",
    "\n",
    "def trans_(x):\n",
    "    try:\n",
    "        return trans[x]\n",
    "    except KeyError:\n",
    "        return 'Other'\n",
    "\n",
    "pie_data['cn'] = pie_data['category'].apply(lambda x: trans_(x))"
   ]
  },
  {
   "cell_type": "code",
   "execution_count": 56,
   "metadata": {},
   "outputs": [
    {
     "data": {
      "application/vnd.plotly.v1+json": {
       "data": [
        {
         "hole": 0.4,
         "hoverinfo": "label+percent",
         "labels": [
          "Other",
          "Lignite and Derivatives",
          "Other",
          "Other",
          "Crude oil",
          "Natural gas",
          "Nuclear",
          "Hydro",
          "Wind",
          "Solar",
          "Biomass",
          "Other",
          "Other"
         ],
         "type": "pie",
         "values": [
          0,
          1462.5,
          0,
          0,
          984.7,
          1428.8,
          4161.4,
          22.3,
          58.8,
          28.5,
          2898.6,
          119.9,
          83.8
         ]
        }
       ],
       "layout": {
        "title": "Primary production in HU, 2016"
       }
      },
      "text/html": [
       "<div id=\"7a6e4240-f477-40da-819f-dceffc18258d\" style=\"height: 525px; width: 100%;\" class=\"plotly-graph-div\"></div><script type=\"text/javascript\">require([\"plotly\"], function(Plotly) { window.PLOTLYENV=window.PLOTLYENV || {};window.PLOTLYENV.BASE_URL=\"https://plot.ly\";Plotly.newPlot(\"7a6e4240-f477-40da-819f-dceffc18258d\", [{\"labels\": [\"Other\", \"Lignite and Derivatives\", \"Other\", \"Other\", \"Crude oil\", \"Natural gas\", \"Nuclear\", \"Hydro\", \"Wind\", \"Solar\", \"Biomass\", \"Other\", \"Other\"], \"values\": [0.0, 1462.5, 0.0, 0.0, 984.7, 1428.8, 4161.4, 22.3, 58.8, 28.5, 2898.6, 119.9, 83.8], \"type\": \"pie\", \"hoverinfo\": \"label+percent\", \"hole\": 0.4}], {\"title\": \"Primary production in HU, 2016\"}, {\"showLink\": false, \"linkText\": \"Export to plot.ly\"})});</script>"
      ],
      "text/vnd.plotly.v1+html": [
       "<div id=\"7a6e4240-f477-40da-819f-dceffc18258d\" style=\"height: 525px; width: 100%;\" class=\"plotly-graph-div\"></div><script type=\"text/javascript\">require([\"plotly\"], function(Plotly) { window.PLOTLYENV=window.PLOTLYENV || {};window.PLOTLYENV.BASE_URL=\"https://plot.ly\";Plotly.newPlot(\"7a6e4240-f477-40da-819f-dceffc18258d\", [{\"labels\": [\"Other\", \"Lignite and Derivatives\", \"Other\", \"Other\", \"Crude oil\", \"Natural gas\", \"Nuclear\", \"Hydro\", \"Wind\", \"Solar\", \"Biomass\", \"Other\", \"Other\"], \"values\": [0.0, 1462.5, 0.0, 0.0, 984.7, 1428.8, 4161.4, 22.3, 58.8, 28.5, 2898.6, 119.9, 83.8], \"type\": \"pie\", \"hoverinfo\": \"label+percent\", \"hole\": 0.4}], {\"title\": \"Primary production in HU, 2016\"}, {\"showLink\": false, \"linkText\": \"Export to plot.ly\"})});</script>"
      ]
     },
     "metadata": {},
     "output_type": "display_data"
    }
   ],
   "source": [
    "# plot = go.Pie(\n",
    "#     values = pie_data['total'],\n",
    "#     labels = pie_data['cn'],\n",
    "#     name = 'AL'\n",
    "# )\n",
    "\n",
    "fig = {\n",
    "    \"data\": [{\n",
    "            'labels': pie_data['cn'],\n",
    "            'values': pie_data['total'],\n",
    "            'type': 'pie',\n",
    "            'hoverinfo':'label+percent',\n",
    "            'hole': .4\n",
    "        }],\n",
    "    'layout': {'title': 'Primary production in {}, {}'.format(country, year)}\n",
    "}\n",
    "\n",
    "iplot(fig, show_link=False)"
   ]
  },
  {
   "cell_type": "code",
   "execution_count": 57,
   "metadata": {},
   "outputs": [],
   "source": [
    "csv_data = (pie_data >> group_by('cn') >> summarize(total = X.total.sum())) \n",
    "csv_data.to_csv(\"primary_production_yearly_{}_{}.csv\".format(country, year),index=False)"
   ]
  }
 ],
 "metadata": {
  "kernelspec": {
   "display_name": "Python 3",
   "language": "python",
   "name": "python3"
  },
  "language_info": {
   "codemirror_mode": {
    "name": "ipython",
    "version": 3
   },
   "file_extension": ".py",
   "mimetype": "text/x-python",
   "name": "python",
   "nbconvert_exporter": "python",
   "pygments_lexer": "ipython3",
   "version": "3.7.0"
  }
 },
 "nbformat": 4,
 "nbformat_minor": 2
}
