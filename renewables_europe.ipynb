{
 "cells": [
  {
   "cell_type": "code",
   "execution_count": 25,
   "metadata": {},
   "outputs": [
    {
     "data": {
      "text/html": [
       "<script>requirejs.config({paths: { 'plotly': ['https://cdn.plot.ly/plotly-latest.min']},});if(!window.Plotly) {{require(['plotly'],function(plotly) {window.Plotly=plotly;});}}</script>"
      ],
      "text/vnd.plotly.v1+html": [
       "<script>requirejs.config({paths: { 'plotly': ['https://cdn.plot.ly/plotly-latest.min']},});if(!window.Plotly) {{require(['plotly'],function(plotly) {window.Plotly=plotly;});}}</script>"
      ]
     },
     "metadata": {},
     "output_type": "display_data"
    }
   ],
   "source": [
    "import pandas as pd\n",
    "import jsonstat as jstat\n",
    "from dfply import *\n",
    "from plotly.offline import download_plotlyjs, init_notebook_mode, plot, iplot\n",
    "import plotly.graph_objs as go\n",
    "init_notebook_mode(connected=True)\n",
    "\n",
    "base_url = 'http://ec.europa.eu/eurostat/wdds/rest/data/v2.1/json/en/'\n",
    "base_url_1 = 'nrg_109a?precision=1&sinceTimePeriod=2010&unit=KTOE&indic_en=B_100100&'"
   ]
  },
  {
   "cell_type": "code",
   "execution_count": 26,
   "metadata": {},
   "outputs": [],
   "source": [
    "# agg_lvls = [\n",
    "#     ['0000'],\n",
    "# #     ['2000','3000','4000','5100','5200','5500','6000','7200'],\n",
    "# #     ['2100','2200','2410','3100','3200','4000','5100','5200','5510','5520','5530','5535','5540','5550','6000','7200']\n",
    "# ]\n",
    "\n",
    "## 0000 should be equal to all the others"
   ]
  },
  {
   "cell_type": "code",
   "execution_count": 27,
   "metadata": {},
   "outputs": [],
   "source": [
    "# specify country, time here\n",
    "country = 'AL'\n",
    "year = '2016'"
   ]
  },
  {
   "cell_type": "code",
   "execution_count": 28,
   "metadata": {},
   "outputs": [
    {
     "data": {
      "text/plain": [
       "'http://ec.europa.eu/eurostat/wdds/rest/data/v2.1/json/en/nrg_109a?precision=1&sinceTimePeriod=2010&unit=KTOE&indic_en=B_100100&geo=AL'"
      ]
     },
     "execution_count": 28,
     "metadata": {},
     "output_type": "execute_result"
    }
   ],
   "source": [
    "geos = [country]\n",
    "url = \"\".join(list(map(lambda t: \"geo={}&\".format(t), geos)))[:-1]\n",
    "\n",
    "# url2 = \"\".join(list(map(lambda t: \"product={}&\".format(t), agg_lvls[1])))[:-1]\n",
    "\n",
    "\n",
    "full_url = base_url + base_url_1 + url\n",
    "full_url"
   ]
  },
  {
   "cell_type": "code",
   "execution_count": 29,
   "metadata": {},
   "outputs": [
    {
     "data": {
      "text/html": [
       "<div>\n",
       "<style scoped>\n",
       "    .dataframe tbody tr th:only-of-type {\n",
       "        vertical-align: middle;\n",
       "    }\n",
       "\n",
       "    .dataframe tbody tr th {\n",
       "        vertical-align: top;\n",
       "    }\n",
       "\n",
       "    .dataframe thead th {\n",
       "        text-align: right;\n",
       "    }\n",
       "</style>\n",
       "<table border=\"1\" class=\"dataframe\">\n",
       "  <thead>\n",
       "    <tr style=\"text-align: right;\">\n",
       "      <th></th>\n",
       "      <th>unit</th>\n",
       "      <th>product</th>\n",
       "      <th>indic_en</th>\n",
       "      <th>geo</th>\n",
       "      <th>Value</th>\n",
       "    </tr>\n",
       "    <tr>\n",
       "      <th>time</th>\n",
       "      <th></th>\n",
       "      <th></th>\n",
       "      <th></th>\n",
       "      <th></th>\n",
       "      <th></th>\n",
       "    </tr>\n",
       "  </thead>\n",
       "  <tbody>\n",
       "    <tr>\n",
       "      <th>2010</th>\n",
       "      <td>KTOE</td>\n",
       "      <td>0000</td>\n",
       "      <td>B_100100</td>\n",
       "      <td>AL</td>\n",
       "      <td>1572.2</td>\n",
       "    </tr>\n",
       "    <tr>\n",
       "      <th>2011</th>\n",
       "      <td>KTOE</td>\n",
       "      <td>0000</td>\n",
       "      <td>B_100100</td>\n",
       "      <td>AL</td>\n",
       "      <td>1433.6</td>\n",
       "    </tr>\n",
       "    <tr>\n",
       "      <th>2012</th>\n",
       "      <td>KTOE</td>\n",
       "      <td>0000</td>\n",
       "      <td>B_100100</td>\n",
       "      <td>AL</td>\n",
       "      <td>1605.1</td>\n",
       "    </tr>\n",
       "    <tr>\n",
       "      <th>2013</th>\n",
       "      <td>KTOE</td>\n",
       "      <td>0000</td>\n",
       "      <td>B_100100</td>\n",
       "      <td>AL</td>\n",
       "      <td>1965.5</td>\n",
       "    </tr>\n",
       "    <tr>\n",
       "      <th>2014</th>\n",
       "      <td>KTOE</td>\n",
       "      <td>0000</td>\n",
       "      <td>B_100100</td>\n",
       "      <td>AL</td>\n",
       "      <td>1876.2</td>\n",
       "    </tr>\n",
       "  </tbody>\n",
       "</table>\n",
       "</div>"
      ],
      "text/plain": [
       "      unit product  indic_en geo   Value\n",
       "time                                    \n",
       "2010  KTOE    0000  B_100100  AL  1572.2\n",
       "2011  KTOE    0000  B_100100  AL  1433.6\n",
       "2012  KTOE    0000  B_100100  AL  1605.1\n",
       "2013  KTOE    0000  B_100100  AL  1965.5\n",
       "2014  KTOE    0000  B_100100  AL  1876.2"
      ]
     },
     "execution_count": 29,
     "metadata": {},
     "output_type": "execute_result"
    }
   ],
   "source": [
    "data = jstat.from_url(full_url)\n",
    "data_df = data.to_data_frame('time', content='id')\n",
    "data_df.head()"
   ]
  },
  {
   "cell_type": "code",
   "execution_count": 30,
   "metadata": {},
   "outputs": [],
   "source": [
    "data_df.reset_index(level=0,inplace=True)"
   ]
  },
  {
   "cell_type": "code",
   "execution_count": 31,
   "metadata": {},
   "outputs": [
    {
     "data": {
      "text/plain": [
       "array(['0000', '2115', '2116', '2117', '2118', '2210', '2310', '2410',\n",
       "       '3105', '3106', '3192', '3193', '4100', '5100', '5510', '5520',\n",
       "       '5532', '5534', '5535', '5541', '55411', '55412', '55413', '55414',\n",
       "       '55415', '55416', '5542', '55421', '55422', '55423', '55425',\n",
       "       '55431', '55432', '5546', '5547', '5548', '5549', '5550', '7100'],\n",
       "      dtype=object)"
      ]
     },
     "execution_count": 31,
     "metadata": {},
     "output_type": "execute_result"
    }
   ],
   "source": [
    "data_df['product'].unique()"
   ]
  },
  {
   "cell_type": "code",
   "execution_count": 32,
   "metadata": {
    "scrolled": true
   },
   "outputs": [],
   "source": [
    "data_df = data_df[data_df['product'].str.len() <= 4]"
   ]
  },
  {
   "cell_type": "code",
   "execution_count": 33,
   "metadata": {},
   "outputs": [
    {
     "data": {
      "text/html": [
       "<div>\n",
       "<style scoped>\n",
       "    .dataframe tbody tr th:only-of-type {\n",
       "        vertical-align: middle;\n",
       "    }\n",
       "\n",
       "    .dataframe tbody tr th {\n",
       "        vertical-align: top;\n",
       "    }\n",
       "\n",
       "    .dataframe thead th {\n",
       "        text-align: right;\n",
       "    }\n",
       "</style>\n",
       "<table border=\"1\" class=\"dataframe\">\n",
       "  <thead>\n",
       "    <tr style=\"text-align: right;\">\n",
       "      <th></th>\n",
       "      <th>time</th>\n",
       "      <th>unit</th>\n",
       "      <th>product</th>\n",
       "      <th>indic_en</th>\n",
       "      <th>geo</th>\n",
       "      <th>Value</th>\n",
       "      <th>lv3</th>\n",
       "      <th>lv2</th>\n",
       "    </tr>\n",
       "  </thead>\n",
       "  <tbody>\n",
       "    <tr>\n",
       "      <th>0</th>\n",
       "      <td>2010</td>\n",
       "      <td>KTOE</td>\n",
       "      <td>0000</td>\n",
       "      <td>B_100100</td>\n",
       "      <td>AL</td>\n",
       "      <td>1572.2</td>\n",
       "      <td>000</td>\n",
       "      <td>00</td>\n",
       "    </tr>\n",
       "    <tr>\n",
       "      <th>1</th>\n",
       "      <td>2011</td>\n",
       "      <td>KTOE</td>\n",
       "      <td>0000</td>\n",
       "      <td>B_100100</td>\n",
       "      <td>AL</td>\n",
       "      <td>1433.6</td>\n",
       "      <td>000</td>\n",
       "      <td>00</td>\n",
       "    </tr>\n",
       "    <tr>\n",
       "      <th>2</th>\n",
       "      <td>2012</td>\n",
       "      <td>KTOE</td>\n",
       "      <td>0000</td>\n",
       "      <td>B_100100</td>\n",
       "      <td>AL</td>\n",
       "      <td>1605.1</td>\n",
       "      <td>000</td>\n",
       "      <td>00</td>\n",
       "    </tr>\n",
       "    <tr>\n",
       "      <th>3</th>\n",
       "      <td>2013</td>\n",
       "      <td>KTOE</td>\n",
       "      <td>0000</td>\n",
       "      <td>B_100100</td>\n",
       "      <td>AL</td>\n",
       "      <td>1965.5</td>\n",
       "      <td>000</td>\n",
       "      <td>00</td>\n",
       "    </tr>\n",
       "    <tr>\n",
       "      <th>4</th>\n",
       "      <td>2014</td>\n",
       "      <td>KTOE</td>\n",
       "      <td>0000</td>\n",
       "      <td>B_100100</td>\n",
       "      <td>AL</td>\n",
       "      <td>1876.2</td>\n",
       "      <td>000</td>\n",
       "      <td>00</td>\n",
       "    </tr>\n",
       "  </tbody>\n",
       "</table>\n",
       "</div>"
      ],
      "text/plain": [
       "   time  unit product  indic_en geo   Value  lv3 lv2\n",
       "0  2010  KTOE    0000  B_100100  AL  1572.2  000  00\n",
       "1  2011  KTOE    0000  B_100100  AL  1433.6  000  00\n",
       "2  2012  KTOE    0000  B_100100  AL  1605.1  000  00\n",
       "3  2013  KTOE    0000  B_100100  AL  1965.5  000  00\n",
       "4  2014  KTOE    0000  B_100100  AL  1876.2  000  00"
      ]
     },
     "execution_count": 33,
     "metadata": {},
     "output_type": "execute_result"
    }
   ],
   "source": [
    "data_df['lv3'] = data_df['product'].str[:3]\n",
    "data_df['lv2'] = data_df['product'].str[:2]\n",
    "data_df.head()"
   ]
  },
  {
   "cell_type": "code",
   "execution_count": 34,
   "metadata": {},
   "outputs": [
    {
     "data": {
      "text/html": [
       "<div>\n",
       "<style scoped>\n",
       "    .dataframe tbody tr th:only-of-type {\n",
       "        vertical-align: middle;\n",
       "    }\n",
       "\n",
       "    .dataframe tbody tr th {\n",
       "        vertical-align: top;\n",
       "    }\n",
       "\n",
       "    .dataframe thead th {\n",
       "        text-align: right;\n",
       "    }\n",
       "</style>\n",
       "<table border=\"1\" class=\"dataframe\">\n",
       "  <thead>\n",
       "    <tr style=\"text-align: right;\">\n",
       "      <th></th>\n",
       "      <th>time</th>\n",
       "      <th>unit</th>\n",
       "      <th>product</th>\n",
       "      <th>indic_en</th>\n",
       "      <th>geo</th>\n",
       "      <th>Value</th>\n",
       "      <th>lv3</th>\n",
       "      <th>lv2</th>\n",
       "      <th>category</th>\n",
       "    </tr>\n",
       "  </thead>\n",
       "  <tbody>\n",
       "    <tr>\n",
       "      <th>0</th>\n",
       "      <td>2010</td>\n",
       "      <td>KTOE</td>\n",
       "      <td>0000</td>\n",
       "      <td>B_100100</td>\n",
       "      <td>AL</td>\n",
       "      <td>1572.2</td>\n",
       "      <td>000</td>\n",
       "      <td>00</td>\n",
       "      <td>00</td>\n",
       "    </tr>\n",
       "    <tr>\n",
       "      <th>1</th>\n",
       "      <td>2011</td>\n",
       "      <td>KTOE</td>\n",
       "      <td>0000</td>\n",
       "      <td>B_100100</td>\n",
       "      <td>AL</td>\n",
       "      <td>1433.6</td>\n",
       "      <td>000</td>\n",
       "      <td>00</td>\n",
       "      <td>00</td>\n",
       "    </tr>\n",
       "    <tr>\n",
       "      <th>2</th>\n",
       "      <td>2012</td>\n",
       "      <td>KTOE</td>\n",
       "      <td>0000</td>\n",
       "      <td>B_100100</td>\n",
       "      <td>AL</td>\n",
       "      <td>1605.1</td>\n",
       "      <td>000</td>\n",
       "      <td>00</td>\n",
       "      <td>00</td>\n",
       "    </tr>\n",
       "    <tr>\n",
       "      <th>3</th>\n",
       "      <td>2013</td>\n",
       "      <td>KTOE</td>\n",
       "      <td>0000</td>\n",
       "      <td>B_100100</td>\n",
       "      <td>AL</td>\n",
       "      <td>1965.5</td>\n",
       "      <td>000</td>\n",
       "      <td>00</td>\n",
       "      <td>00</td>\n",
       "    </tr>\n",
       "    <tr>\n",
       "      <th>4</th>\n",
       "      <td>2014</td>\n",
       "      <td>KTOE</td>\n",
       "      <td>0000</td>\n",
       "      <td>B_100100</td>\n",
       "      <td>AL</td>\n",
       "      <td>1876.2</td>\n",
       "      <td>000</td>\n",
       "      <td>00</td>\n",
       "      <td>00</td>\n",
       "    </tr>\n",
       "  </tbody>\n",
       "</table>\n",
       "</div>"
      ],
      "text/plain": [
       "   time  unit product  indic_en geo   Value  lv3 lv2 category\n",
       "0  2010  KTOE    0000  B_100100  AL  1572.2  000  00       00\n",
       "1  2011  KTOE    0000  B_100100  AL  1433.6  000  00       00\n",
       "2  2012  KTOE    0000  B_100100  AL  1605.1  000  00       00\n",
       "3  2013  KTOE    0000  B_100100  AL  1965.5  000  00       00\n",
       "4  2014  KTOE    0000  B_100100  AL  1876.2  000  00       00"
      ]
     },
     "execution_count": 34,
     "metadata": {},
     "output_type": "execute_result"
    }
   ],
   "source": [
    "data_df['category'] = data_df['lv2']\n",
    "data_df.loc[data_df['lv2'] == '55','category'] = data_df['lv3']\n",
    "data_df.head()"
   ]
  },
  {
   "cell_type": "code",
   "execution_count": 35,
   "metadata": {},
   "outputs": [
    {
     "data": {
      "text/html": [
       "<div>\n",
       "<style scoped>\n",
       "    .dataframe tbody tr th:only-of-type {\n",
       "        vertical-align: middle;\n",
       "    }\n",
       "\n",
       "    .dataframe tbody tr th {\n",
       "        vertical-align: top;\n",
       "    }\n",
       "\n",
       "    .dataframe thead th {\n",
       "        text-align: right;\n",
       "    }\n",
       "</style>\n",
       "<table border=\"1\" class=\"dataframe\">\n",
       "  <thead>\n",
       "    <tr style=\"text-align: right;\">\n",
       "      <th></th>\n",
       "      <th>category</th>\n",
       "      <th>total</th>\n",
       "    </tr>\n",
       "  </thead>\n",
       "  <tbody>\n",
       "    <tr>\n",
       "      <th>4</th>\n",
       "      <td>31</td>\n",
       "      <td>1031.1</td>\n",
       "    </tr>\n",
       "    <tr>\n",
       "      <th>7</th>\n",
       "      <td>551</td>\n",
       "      <td>669.1</td>\n",
       "    </tr>\n",
       "    <tr>\n",
       "      <th>10</th>\n",
       "      <td>554</td>\n",
       "      <td>186.0</td>\n",
       "    </tr>\n",
       "    <tr>\n",
       "      <th>5</th>\n",
       "      <td>41</td>\n",
       "      <td>35.0</td>\n",
       "    </tr>\n",
       "    <tr>\n",
       "      <th>9</th>\n",
       "      <td>553</td>\n",
       "      <td>12.8</td>\n",
       "    </tr>\n",
       "  </tbody>\n",
       "</table>\n",
       "</div>"
      ],
      "text/plain": [
       "   category   total\n",
       "4        31  1031.1\n",
       "7       551   669.1\n",
       "10      554   186.0\n",
       "5        41    35.0\n",
       "9       553    12.8"
      ]
     },
     "execution_count": 35,
     "metadata": {},
     "output_type": "execute_result"
    }
   ],
   "source": [
    "pie_data = (data_df >> mask(X.geo == country, X.time == year, X.category != '00'))\n",
    "pie_data = (pie_data >> group_by('category') >> summarize(total = X.Value.sum()))\n",
    "# total_sum = sum(albania['Value'])\n",
    "\n",
    "# lv2['category'] = lv2['product']\n",
    "# lv2.loc[(lv2['Value'] / total_sum) < 0.05,'category'] = 'Other'\n",
    "\n",
    "\n",
    "pie_data.sort_values(by=['total'],ascending=False).head()"
   ]
  },
  {
   "cell_type": "code",
   "execution_count": 36,
   "metadata": {},
   "outputs": [],
   "source": [
    "# translation\n",
    "trans = {\n",
    "    \"41\": \"Natural gas\",\n",
    "    \"554\": \"Biomass\",\n",
    "    \"31\": \"Crude oil\",\n",
    "    \"51\": \"Nuclear\",\n",
    "    \"552\": \"Wind\",\n",
    "    \"553\": \"Solar\",\n",
    "    \"551\": \"Hydro\",\n",
    "    \"22\": \"Lignite and Derivatives\"\n",
    "}\n",
    "trans['41']\n",
    "\n",
    "def trans_(x):\n",
    "    try:\n",
    "        return trans[x]\n",
    "    except KeyError:\n",
    "        return 'Other'\n",
    "\n",
    "pie_data['cn'] = pie_data['category'].apply(lambda x: trans_(x))"
   ]
  },
  {
   "cell_type": "code",
   "execution_count": 38,
   "metadata": {},
   "outputs": [
    {
     "data": {
      "application/vnd.plotly.v1+json": {
       "data": [
        {
         "hole": 0.4,
         "hoverinfo": "label+percent",
         "labels": [
          "Other",
          "Lignite and Derivatives",
          "Other",
          "Other",
          "Crude oil",
          "Natural gas",
          "Nuclear",
          "Hydro",
          "Wind",
          "Solar",
          "Biomass",
          "Other",
          "Other"
         ],
         "type": "pie",
         "values": [
          2,
          0,
          0,
          0,
          1031.1,
          35,
          0,
          669.1,
          0,
          12.8,
          186,
          0,
          0
         ]
        }
       ],
       "layout": {
        "title": "Primary production in AL, 2016"
       }
      },
      "text/html": [
       "<div id=\"8e4bd2a0-2dfe-402e-82ac-2a8158dffebc\" style=\"height: 525px; width: 100%;\" class=\"plotly-graph-div\"></div><script type=\"text/javascript\">require([\"plotly\"], function(Plotly) { window.PLOTLYENV=window.PLOTLYENV || {};window.PLOTLYENV.BASE_URL=\"https://plot.ly\";Plotly.newPlot(\"8e4bd2a0-2dfe-402e-82ac-2a8158dffebc\", [{\"labels\": [\"Other\", \"Lignite and Derivatives\", \"Other\", \"Other\", \"Crude oil\", \"Natural gas\", \"Nuclear\", \"Hydro\", \"Wind\", \"Solar\", \"Biomass\", \"Other\", \"Other\"], \"values\": [2.0, 0.0, 0.0, 0.0, 1031.1, 35.0, 0.0, 669.1, 0.0, 12.8, 186.0, 0.0, 0.0], \"type\": \"pie\", \"hoverinfo\": \"label+percent\", \"hole\": 0.4}], {\"title\": \"Primary production in AL, 2016\"}, {\"showLink\": false, \"linkText\": \"Export to plot.ly\"})});</script>"
      ],
      "text/vnd.plotly.v1+html": [
       "<div id=\"8e4bd2a0-2dfe-402e-82ac-2a8158dffebc\" style=\"height: 525px; width: 100%;\" class=\"plotly-graph-div\"></div><script type=\"text/javascript\">require([\"plotly\"], function(Plotly) { window.PLOTLYENV=window.PLOTLYENV || {};window.PLOTLYENV.BASE_URL=\"https://plot.ly\";Plotly.newPlot(\"8e4bd2a0-2dfe-402e-82ac-2a8158dffebc\", [{\"labels\": [\"Other\", \"Lignite and Derivatives\", \"Other\", \"Other\", \"Crude oil\", \"Natural gas\", \"Nuclear\", \"Hydro\", \"Wind\", \"Solar\", \"Biomass\", \"Other\", \"Other\"], \"values\": [2.0, 0.0, 0.0, 0.0, 1031.1, 35.0, 0.0, 669.1, 0.0, 12.8, 186.0, 0.0, 0.0], \"type\": \"pie\", \"hoverinfo\": \"label+percent\", \"hole\": 0.4}], {\"title\": \"Primary production in AL, 2016\"}, {\"showLink\": false, \"linkText\": \"Export to plot.ly\"})});</script>"
      ]
     },
     "metadata": {},
     "output_type": "display_data"
    }
   ],
   "source": [
    "# plot = go.Pie(\n",
    "#     values = pie_data['total'],\n",
    "#     labels = pie_data['cn'],\n",
    "#     name = 'AL'\n",
    "# )\n",
    "\n",
    "fig = {\n",
    "    \"data\": [{\n",
    "            'labels': pie_data['cn'],\n",
    "            'values': pie_data['total'],\n",
    "            'type': 'pie',\n",
    "            'hoverinfo':'label+percent',\n",
    "            'hole': .4\n",
    "        }],\n",
    "    'layout': {'title': 'Primary production in {}, {}'.format(country, year)}\n",
    "}\n",
    "\n",
    "iplot(fig, show_link=False)"
   ]
  },
  {
   "cell_type": "code",
   "execution_count": 41,
   "metadata": {},
   "outputs": [],
   "source": [
    "csv_data = (pie_data >> group_by('cn') >> summarize(total = X.total.sum())) \n",
    "csv_data.to_csv(\"primary_production_yearly_{}_{}.csv\".format(country, year),index=False)"
   ]
  }
 ],
 "metadata": {
  "kernelspec": {
   "display_name": "Python 3",
   "language": "python",
   "name": "python3"
  },
  "language_info": {
   "codemirror_mode": {
    "name": "ipython",
    "version": 3
   },
   "file_extension": ".py",
   "mimetype": "text/x-python",
   "name": "python",
   "nbconvert_exporter": "python",
   "pygments_lexer": "ipython3",
   "version": "3.6.5"
  }
 },
 "nbformat": 4,
 "nbformat_minor": 2
}
